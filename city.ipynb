{
 "cells": [
  {
   "cell_type": "code",
   "execution_count": 1,
   "metadata": {},
   "outputs": [
    {
     "data": {
      "text/plain": [
       "<AxesSubplot:xlabel='Percentage of Responses'>"
      ]
     },
     "execution_count": 1,
     "metadata": {},
     "output_type": "execute_result"
    },
    {
     "data": {
      "image/png": "[encoded data removed]",
      "text/plain": [
       "<Figure size 432x288 with 1 Axes>"
      ]
     },
     "metadata": {
      "needs_background": "light"
     },
     "output_type": "display_data"
    }
   ],
   "source": [
    "import plot_likert\n",
    "import pandas as pd\n",
    "df=pd.read_csv(r'/Users/muinde/Downloads/data_berlinnairobi2022_2022-08-29_10-37 - berlinnairobi2022 - data_berlinnairobi2022_2022-08-29_10-37 - berlinnairobi2022.csv')\n",
    "df.head()\n",
    "df1= df.drop(columns=[\"Interview-Nummer (fortlaufend)\", \"Trolley Drama\", \"profession\",\"expericence students\", \"experience doctors\",\"Religious\",\"Prognosis\",\"Age\",\"Dependents\",\"Socioeconomic\",\"General Condition\",\"Comorbidities\",\"Patient Will\",\"Gender\",\"Religiosity\",\"University Preparation\",\"Preparedness\",\"Organ Harvesting\",\"ex post\",\"ex ante\"])\n",
    "df1.head()\n",
    "df1 = df1.replace([1],'Nairobi')\n",
    "df1 = df1.replace([2],'Berlin')\n",
    "df1.head()\n",
    "myscale = [\"Nairobi\", \n",
    "\"Berlin\"]\n",
    "plot_likert.plot_likert(df1,myscale, plot_percentage=True, colors=plot_likert.colors.likert5\n",
    ")\n",
    "\n"
   ]
  }
 ],
 "metadata": {
  "kernelspec": {
   "display_name": "Python 3.9.12 ('base')",
   "language": "python",
   "name": "python3"
  },
  "language_info": {
   "codemirror_mode": {
    "name": "ipython",
    "version": 3
   },
   "file_extension": ".py",
   "mimetype": "text/x-python",
   "name": "python",
   "nbconvert_exporter": "python",
   "pygments_lexer": "ipython3",
   "version": "3.9.12"
  },
  "orig_nbformat": 4,
  "vscode": {
   "interpreter": {
    "hash": "612a6e20c472f0d3fdbd75f8d1ab592976ebef4adfd02c1e5ea48c870f9cb698"
   }
  }
 },
 "nbformat": 4,
 "nbformat_minor": 2
}
